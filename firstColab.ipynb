{
  "nbformat": 4,
  "nbformat_minor": 0,
  "metadata": {
    "colab": {
      "provenance": [],
      "authorship_tag": "ABX9TyMKnpBlX5J0Jmb81w4v4uT0",
      "include_colab_link": true
    },
    "kernelspec": {
      "name": "python3",
      "display_name": "Python 3"
    },
    "language_info": {
      "name": "python"
    }
  },
  "cells": [
    {
      "cell_type": "markdown",
      "metadata": {
        "id": "view-in-github",
        "colab_type": "text"
      },
      "source": [
        "<a href=\"https://colab.research.google.com/github/gilyasur/ArrayHW/blob/main/firstColab.ipynb\" target=\"_parent\"><img src=\"https://colab.research.google.com/assets/colab-badge.svg\" alt=\"Open In Colab\"/></a>"
      ]
    },
    {
      "cell_type": "markdown",
      "source": [
        "this is the main code file."
      ],
      "metadata": {
        "id": "EMNFWOw-28Hi"
      }
    },
    {
      "cell_type": "code",
      "execution_count": null,
      "metadata": {
        "id": "BWTh2TwT2zUr"
      },
      "outputs": [],
      "source": [
        "pass\n",
        "from funModule import userInput, readAndPrintJSON, clear_terminal, changeTerminalColorToGreen\n",
        "import json\n",
        "import os\n",
        "\n",
        "\n",
        "\n",
        "if __name__ == \"__main__\":\n",
        "    clear_terminal()\n",
        "    userInput()\n",
        "    readAndPrintJSON()\n",
        "    changeTerminalColorToGreen()"
      ]
    },
    {
      "cell_type": "markdown",
      "source": [
        "this is the module code\n"
      ],
      "metadata": {
        "id": "P2N3RGVT3BeQ"
      }
    },
    {
      "cell_type": "code",
      "source": [
        "import json\n",
        "import os\n",
        "\n",
        "def userInput():\n",
        "    first_Name = input(\"what is your first name?\")\n",
        "    last_Name = input(\"what is your last name?\")\n",
        "    userNames = { \"first Name\": first_Name,\n",
        "                  \"last name\": last_Name,\n",
        "                 }\n",
        "\n",
        "\n",
        "    with open(\"user_data.json\", \"w\") as json_file:\n",
        "        json.dump(userNames, json_file)\n",
        "\n",
        "\n",
        "def readAndPrintJSON():\n",
        "    with open(\"user_data.json\", \"r\") as json_file:\n",
        "        data = json.load(json_file)\n",
        "        print(\"JSON Data:\", data)\n",
        "\n",
        "def clear_terminal():\n",
        "    os.system('cls' if os.name == 'nt' else 'clear')\n",
        "\n",
        "def changeTerminalColorToGreen ():\n",
        "    GREEN = '\\033[92m'\n",
        "    RESET = '\\033[0m' ## This Resets the color the defualt one. adds this to the print command to reset.\n",
        "    print(GREEN + \"This text is Green.\" + RESET)\n",
        "\n"
      ],
      "metadata": {
        "colab": {
          "base_uri": "https://localhost:8080/",
          "height": 143
        },
        "id": "T9O-GBi227DT",
        "outputId": "c4f7b81b-0686-4827-a238-fbf0b9007757"
      },
      "execution_count": null,
      "outputs": [
        {
          "output_type": "error",
          "ename": "SyntaxError",
          "evalue": "ignored",
          "traceback": [
            "\u001b[0;36m  File \u001b[0;32m\"<ipython-input-1-4d96d71feb05>\"\u001b[0;36m, line \u001b[0;32m22\u001b[0m\n\u001b[0;31m    print(f\"GREEN + \"This text is Green.\" + RESET)\u001b[0m\n\u001b[0m                                        ^\u001b[0m\n\u001b[0;31mSyntaxError\u001b[0m\u001b[0;31m:\u001b[0m unterminated string literal (detected at line 22)\n"
          ]
        }
      ]
    },
    {
      "cell_type": "markdown",
      "source": [
        "this is the json file"
      ],
      "metadata": {
        "id": "JAKBbzGN3LKi"
      }
    },
    {
      "cell_type": "code",
      "source": [
        "{\n",
        "    \"Gil\": \"Yasur\"}"
      ],
      "metadata": {
        "id": "_XhDhxkN3KLh"
      },
      "execution_count": null,
      "outputs": []
    }
  ]
}